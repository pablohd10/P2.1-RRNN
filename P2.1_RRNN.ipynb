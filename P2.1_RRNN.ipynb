{
  "nbformat": 4,
  "nbformat_minor": 0,
  "metadata": {
    "colab": {
      "provenance": [],
      "gpuType": "T4",
      "include_colab_link": true
    },
    "kernelspec": {
      "name": "python3",
      "display_name": "Python 3"
    },
    "language_info": {
      "name": "python"
    },
    "accelerator": "GPU"
  },
  "cells": [
    {
      "cell_type": "markdown",
      "metadata": {
        "id": "view-in-github",
        "colab_type": "text"
      },
      "source": [
        "<a href=\"https://colab.research.google.com/github/pablohd10/P2.1-RRNN/blob/main/P2.1_RRNN.ipynb\" target=\"_parent\"><img src=\"https://colab.research.google.com/assets/colab-badge.svg\" alt=\"Open In Colab\"/></a>"
      ]
    },
    {
      "cell_type": "markdown",
      "source": [
        "![LogoUC3M](data:image/png;base64,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)\n",
        "\n",
        "\n",
        "# PRÁCTICA 2.1: REDES DE NEURONAS\n",
        "---\n",
        "\n",
        "Autores: Pablo Hidalgo Delgado y Marcos Caballero Cortés   \n",
        "\n",
        "NIAs: 100451225 y 100451047\n"
      ],
      "metadata": {
        "id": "EmYCUYAaj0kB"
      }
    },
    {
      "cell_type": "markdown",
      "source": [
        "# PREGUNTAS PROFE\n",
        "\n",
        "- Recall, f1-score, matriz de confusion... solo para el modelo final??? Entonces como podemos saber si el balanceo ha hecho su función??\n",
        "\n",
        "- Modelo final: Para este modelo hay que entrenarlo al máximo por lo que\n",
        "técnicas como el early stopping no tienen sentido. Entonces con qué número de épocas lo entrenamos? el numero de epocas en que se haya parado con el early stopping?\n",
        "\n",
        "\n",
        "\n",
        "\n",
        "\n"
      ],
      "metadata": {
        "id": "xh3ZlxBVay9K"
      }
    },
    {
      "cell_type": "markdown",
      "source": [
        "## 1. Introducción\n",
        "El propósito de esta práctica de clasificación clásico haciendo uso del Perceptrón Multicapa (PM).\n",
        "\n",
        "Para ello, se nos dispone de un conjunto de datos desbalanceados de trayectorias de diferentes individuos\n",
        "en diferentes medios de transporte.\n",
        "\n",
        "Utilizando estos datos, debemos generar un modelo capaz de clasificar el medio de transporte en el que se desplaza un individuo.\n",
        "\n",
        "\n"
      ],
      "metadata": {
        "id": "bKPNG-Js-nLU"
      }
    },
    {
      "cell_type": "markdown",
      "source": [
        "## 2. Leer los conjuntos de datos\n"
      ],
      "metadata": {
        "id": "B9zbIk4Jq81r"
      }
    },
    {
      "cell_type": "markdown",
      "source": [
        "En primer lugar, importamos todas las librerías que se van a utilizar a lo largo de la práctica"
      ],
      "metadata": {
        "id": "1a3tpfhSBrhA"
      }
    },
    {
      "cell_type": "code",
      "source": [
        "import random\n",
        "import time\n",
        "import pickle\n",
        "import seaborn as sns\n",
        "\n",
        "\n",
        "import numpy as np\n",
        "import pandas as pd\n",
        "\n",
        "from sklearn.model_selection import train_test_split\n",
        "from sklearn.metrics import mean_squared_error, mean_absolute_error\n",
        "from sklearn.preprocessing import LabelBinarizer\n",
        "from sklearn.utils.class_weight import compute_class_weight\n",
        "from sklearn.metrics import accuracy_score, precision_score, recall_score, f1_score, confusion_matrix\n",
        "from sklearn.metrics import classification_report\n",
        "\n",
        "\n",
        "import seaborn as sns\n",
        "import matplotlib.pyplot as plt\n",
        "from matplotlib.table import table\n",
        "\n",
        "import tensorflow as tf\n",
        "from keras.models import Sequential, load_model\n",
        "from keras.layers import Dense\n",
        "from keras.callbacks import EarlyStopping\n",
        "\n"
      ],
      "metadata": {
        "id": "OKy5cM5JBhxM"
      },
      "execution_count": 2,
      "outputs": []
    },
    {
      "cell_type": "markdown",
      "source": [
        "Leemos el conjunto de datos proporcionado."
      ],
      "metadata": {
        "id": "DsrHpGp1Bmvf"
      }
    },
    {
      "cell_type": "code",
      "source": [
        "archivo_csv = 'dataRRNN2.csv'\n",
        "\n",
        "datos = pd.DataFrame()\n",
        "\n",
        "# Leemos el archivo\n",
        "datos = pd.read_csv(archivo_csv)"
      ],
      "metadata": {
        "id": "xeeZVeeNBbDE"
      },
      "execution_count": 3,
      "outputs": []
    },
    {
      "cell_type": "markdown",
      "source": [
        "## 3. Análisis Exploratorio de Datos (EDA)\n",
        "Antes de empezar con la división en datos de entrenamiento y test, vamos a realizar un pequeño análisis exploratorio de datos (EDA). De esta manera, podremos investigar y resumir las características más importantes de nuestro dataset. Esto nos servirá para comprender mejor los datos y optimizar la obtención de nuestro modelo.\n"
      ],
      "metadata": {
        "id": "xZQ8fVf2CJZC"
      }
    },
    {
      "cell_type": "markdown",
      "source": [
        "### 3.1 Información básica"
      ],
      "metadata": {
        "id": "ZeDPQVCTVysk"
      }
    },
    {
      "cell_type": "code",
      "source": [
        "datos.info(memory_usage = 'deep')"
      ],
      "metadata": {
        "id": "_WJ_EVupVu52",
        "outputId": "c79a2463-ec8a-4073-e767-dbbbd1265487",
        "colab": {
          "base_uri": "https://localhost:8080/"
        }
      },
      "execution_count": 4,
      "outputs": [
        {
          "output_type": "stream",
          "name": "stdout",
          "text": [
            "<class 'pandas.core.frame.DataFrame'>\n",
            "RangeIndex: 29151 entries, 0 to 29150\n",
            "Data columns (total 23 columns):\n",
            " #   Column                     Non-Null Count  Dtype  \n",
            "---  ------                     --------------  -----  \n",
            " 0   user_id                    29151 non-null  float64\n",
            " 1   track_id                   29151 non-null  float64\n",
            " 2   mean_delta_times           29151 non-null  float64\n",
            " 3   std_delta_times            29151 non-null  float64\n",
            " 4   mean_hours                 29151 non-null  float64\n",
            " 5   std_hours                  29151 non-null  float64\n",
            " 6   mean_distances             29151 non-null  float64\n",
            " 7   std_distances              29151 non-null  float64\n",
            " 8   mean_velocities            29151 non-null  float64\n",
            " 9   std_velocities             29151 non-null  float64\n",
            " 10  mean_accelerations         29151 non-null  float64\n",
            " 11  std_accelerations          29151 non-null  float64\n",
            " 12  mean_headings              29151 non-null  float64\n",
            " 13  std_headings               29151 non-null  float64\n",
            " 14  mean_heading_changes       29151 non-null  float64\n",
            " 15  std_heading_changes        29151 non-null  float64\n",
            " 16  mean_heading_change_rates  29151 non-null  float64\n",
            " 17  std_heading_change_rates   29151 non-null  float64\n",
            " 18  mean_stops                 29151 non-null  float64\n",
            " 19  std_stops                  29151 non-null  float64\n",
            " 20  mean_turnings              29151 non-null  float64\n",
            " 21  std_turnings               29151 non-null  float64\n",
            " 22  label                      29151 non-null  int64  \n",
            "dtypes: float64(22), int64(1)\n",
            "memory usage: 5.1 MB\n"
          ]
        }
      ]
    },
    {
      "cell_type": "markdown",
      "source": [
        "El conjunto de datos se compone de 29151 instancias y 22 atributos de tipo float64. La variable de salida, label, es de tipo int64.\n",
        "\n",
        "También podemos observar que no existen columnas que contengan valores nulos."
      ],
      "metadata": {
        "id": "e3_ymU7Se3rV"
      }
    },
    {
      "cell_type": "markdown",
      "source": [
        "### 3.2 Atributos irrelevantes\n",
        "En el apartado anterior identificamos las columnas user_id y track_id que parecen ser identificadores. Lo comprobamos por si acaso.\n"
      ],
      "metadata": {
        "id": "RDqwZtU1Slqv"
      }
    },
    {
      "cell_type": "code",
      "source": [
        "print(datos.head(5))"
      ],
      "metadata": {
        "id": "vVr3-dmCTswS",
        "outputId": "211a0fae-54e1-4599-af3f-f59b321270e8",
        "colab": {
          "base_uri": "https://localhost:8080/"
        }
      },
      "execution_count": 5,
      "outputs": [
        {
          "output_type": "stream",
          "name": "stdout",
          "text": [
            "   user_id      track_id  mean_delta_times  std_delta_times  mean_hours  \\\n",
            "0     52.0  2.008071e+13          4.954975         0.304779         4.0   \n",
            "1     52.0  2.008071e+13          4.890226         1.373293         4.0   \n",
            "2    167.0  2.008081e+13          2.000000         0.000000         1.0   \n",
            "3    167.0  2.008081e+13          2.000000         0.000000         1.0   \n",
            "4    167.0  2.008081e+13          2.000000         0.000000         1.0   \n",
            "\n",
            "   std_hours  mean_distances  std_distances  mean_velocities  std_velocities  \\\n",
            "0        0.0        7.370991       2.830568         1.475115        0.564191   \n",
            "1        0.0        4.358587       3.252789         0.833067        0.604174   \n",
            "2        0.0        2.298434       1.164979         1.149217        0.582489   \n",
            "3        0.0        2.135659       0.579179         1.067830        0.289589   \n",
            "4        0.0        0.321824       0.596578         0.160912        0.298289   \n",
            "\n",
            "   ...  std_headings  mean_heading_changes  std_heading_changes  \\\n",
            "0  ...     68.884346              2.357923            70.121440   \n",
            "1  ...    104.436258              5.153850            99.440576   \n",
            "2  ...     68.806007              0.338599            70.724103   \n",
            "3  ...     44.622934              1.585766            48.211919   \n",
            "4  ...     94.658771              0.810080            88.103867   \n",
            "\n",
            "   mean_heading_change_rates  std_heading_change_rates  mean_stops  std_stops  \\\n",
            "0                   0.297172                 15.666157    0.079146   0.243513   \n",
            "1                   6.498869                 31.452027    0.444698   0.452597   \n",
            "2                   0.169300                 35.362051    0.835000   0.371181   \n",
            "3                   0.792883                 24.105959    0.850603   0.279691   \n",
            "4                   0.405040                 44.051934    0.988367   0.096662   \n",
            "\n",
            "   mean_turnings  std_turnings  label  \n",
            "0       0.304824      0.381731      0  \n",
            "1       0.613568      0.399498      0  \n",
            "2       0.355000      0.478513      0  \n",
            "3       0.339296      0.385823      0  \n",
            "4       0.494121      0.430474      0  \n",
            "\n",
            "[5 rows x 23 columns]\n"
          ]
        }
      ]
    },
    {
      "cell_type": "markdown",
      "source": [
        "Efectivamente, como podíamos intuir, se trata de indentificadores.\n",
        "\n",
        "Los identificadores no aportan información predictiva para el modelo. Además, podrían introducir un sesgo e información de la que deberíamos prescindir ya que se podría producir sobreajuste.\n",
        "\n",
        "Por estas razones, eliminamos este atributo de nuestro conjunto de datos sin que exista riesgo de fuga de información."
      ],
      "metadata": {
        "id": "r-jMgEO3Ts35"
      }
    },
    {
      "cell_type": "code",
      "source": [
        "datos.drop(['user_id', 'track_id'], axis=1, inplace=True)"
      ],
      "metadata": {
        "id": "ag5Dnf6QUMUt"
      },
      "execution_count": 6,
      "outputs": []
    },
    {
      "cell_type": "markdown",
      "source": [
        "### 3.2 Atributos compuestos de valores constantes\n",
        "\n",
        "A continuación, vamos a analizar si existen columnas constantes en nuestro conjunto de datos. En ese caso, podremos eliminarlas de nuestro dataset ya que no aportan ninguna información a la variable de respuesta y no existe riesgo de information leakage."
      ],
      "metadata": {
        "id": "MwK44ILqYzQF"
      }
    },
    {
      "cell_type": "code",
      "source": [
        "# Eliminamos las columnas con solo un valor único\n",
        "columnas_constantes = []\n",
        "for col in datos.columns:\n",
        "    if datos[col].nunique() == 1:\n",
        "        print(col)\n",
        "        columnas_constantes.append(col)\n",
        "if len(columnas_constantes) == 0:\n",
        "  print(\"No existen atributos con valores constantes\")"
      ],
      "metadata": {
        "id": "psvJsTbCY7nO",
        "outputId": "aedc7865-a825-424a-c345-d724db6aed9f",
        "colab": {
          "base_uri": "https://localhost:8080/"
        }
      },
      "execution_count": 7,
      "outputs": [
        {
          "output_type": "stream",
          "name": "stdout",
          "text": [
            "No existen atributos con valores constantes\n"
          ]
        }
      ]
    },
    {
      "cell_type": "markdown",
      "source": [
        "### 3.3 Distribución de clases\n",
        "Aunque el enunciado ya indica que los datos presentan desbalanceo, es fundamental confirmar esta característica, así como observar la distribución de las clases."
      ],
      "metadata": {
        "id": "GRAN-ZPVT-3w"
      }
    },
    {
      "cell_type": "code",
      "source": [
        "# Calculamos el recuento de muestras por clase y ordenamos por índice (las clases)\n",
        "conteo_clases = datos['label'].value_counts().sort_index()\n",
        "\n",
        "# Creamos la gráfica de barras\n",
        "conteo_clases.plot(kind='bar', color='skyblue')\n",
        "print(conteo_clases)\n",
        "plt.xlabel('Clases')\n",
        "plt.ylabel('Número de Muestras')\n",
        "plt.title('Número de Muestras por Clase')\n",
        "plt.show()"
      ],
      "metadata": {
        "id": "y3LTu5AmV2di",
        "outputId": "3257fba9-0607-4d0e-cd5d-de96084c0939",
        "colab": {
          "base_uri": "https://localhost:8080/",
          "height": 0
        }
      },
      "execution_count": 8,
      "outputs": [
        {
          "output_type": "stream",
          "name": "stdout",
          "text": [
            "0    10899\n",
            "1     5543\n",
            "2     6558\n",
            "3     4403\n",
            "4     1748\n",
            "Name: label, dtype: int64\n"
          ]
        },
        {
          "output_type": "display_data",
          "data": {
            "text/plain": [
              "<Figure size 640x480 with 1 Axes>"
            ],
            "image/png": "[encoded data removed]"
          },
          "metadata": {}
        }
      ]
    },
    {
      "cell_type": "markdown",
      "source": [
        "Vemos el claro desbalanceo de los datos teniendo la clase 0 (andando) bastante más muestras que la clase 4 (en metro)."
      ],
      "metadata": {
        "id": "jSQ2PkJsWiR_"
      }
    },
    {
      "cell_type": "markdown",
      "source": [
        "## 5. Preproceso\n",
        "Previamente a entrenar los modelos, debemos realizar una transformación de los datos para que puedan ser interpretados por el algoritmo de manera eficiente. Las transformaciones de datos que realizamos son las siguientes:"
      ],
      "metadata": {
        "id": "Nh7BY9vsyJg2"
      }
    },
    {
      "cell_type": "markdown",
      "source": [
        "### 5.1 División de datos en train, validation y test.\n",
        "Una vez explorado y analizado nuestro conjunto de datos, dividimos el dataset en conjuntos de entrenamiento (train), prueba (test) y validación (validation). Para ello, utilizamos la función train_test_split de la librería sklearn.\n",
        "\n",
        "Dividimos los datos en 2/3 para train y 1/3 para test. El conjunto de validación se corresponderá con un 20% del conjunto de entrenamiento tal y como se nos pide en el enunciado de la práctica."
      ],
      "metadata": {
        "id": "vkFFsIZce9Kx"
      }
    },
    {
      "cell_type": "markdown",
      "source": [
        "Antes de realizar la división, debemos separar la variable de respuesta del resto del conjunto de datos."
      ],
      "metadata": {
        "id": "LRpacJZxTqCF"
      }
    },
    {
      "cell_type": "code",
      "source": [
        "X = datos.drop(\"label\", axis = 1)\n",
        "y = datos[\"label\"]"
      ],
      "metadata": {
        "id": "AJERmAn2I8Vq"
      },
      "execution_count": 9,
      "outputs": []
    },
    {
      "cell_type": "markdown",
      "source": [
        "Dividimos el conjunto de datos. Lo hacemos especificando el parámetro suffle = True para que se aleatorizen los datos y el resultado sea reproducible.\n",
        "\n",
        "Además, al tratarse de un problema desbalanceado, utilizamos el parámetro stratify para realizar una partición estratificada, es decir, mantener la misma proporción de clases en ambos conjuntos.\n",
        "\n",
        "También especificamos la semilla random_state a 40 para que los resultados sean reproducibles.\n",
        "\n"
      ],
      "metadata": {
        "id": "okpSS5Nzj54Z"
      }
    },
    {
      "cell_type": "code",
      "source": [
        "# Dividimos los datos originales en conjuntos de entrenamiento (2/3) y prueba (1/3%)\n",
        "X_train_raw, X_test_raw, y_train_raw, y_test_raw = train_test_split(X, y, test_size=1/3, random_state=40, shuffle = True, stratify=y)\n",
        "\n",
        "# Dividimos el conjunto de entrenamiento en conjuntos de entrenamiento (80%) y validación (20%)\n",
        "X_train_raw, X_validation_raw, y_train_raw, y_validation_raw = train_test_split(X_train_raw, y_train_raw, test_size=0.2, random_state=40, shuffle = True, stratify=y_train_raw)\n",
        "\n",
        "# Guardamos los conjuntos de datos en archivos CSV\n",
        "X_train_raw.to_csv('X_train_raw.csv', index=False)\n",
        "y_train_raw.to_csv('y_train_raw.csv', index=False)\n",
        "X_validation_raw.to_csv('X_validation_raw.csv', index=False)\n",
        "y_validation_raw.to_csv('y_validation_raw.csv', index=False)\n",
        "X_test_raw.to_csv('X_test_raw.csv', index=False)\n",
        "y_test_raw.to_csv('y_test_raw.csv', index=False)"
      ],
      "metadata": {
        "id": "lRxgG08Zj5L7"
      },
      "execution_count": 10,
      "outputs": []
    },
    {
      "cell_type": "markdown",
      "source": [
        "Verificamos que existen muestras de cada clase en cada conjunto de datos. Se deberá obtener la misma proporción que se obtuvo con el conjunto de datos entero."
      ],
      "metadata": {
        "id": "TpCm7AWxSsBS"
      }
    },
    {
      "cell_type": "code",
      "source": [
        "# Verificamos el balance de clases en los conjuntos de entrenamiento, prueba y validación\n",
        "conteo_clases_train = y_train_raw.value_counts().sort_index()\n",
        "conteo_clases_test = y_test_raw.value_counts().sort_index()\n",
        "conteo_clases_validation = y_validation_raw.value_counts().sort_index()\n",
        "\n",
        "# Creamos la gráfica de barras para los conjuntos de entrenamiento y prueba\n",
        "plt.figure(figsize=(10, 5))\n",
        "\n",
        "plt.subplot(1, 3, 1)\n",
        "conteo_clases_train.plot(kind='bar', color='skyblue')\n",
        "plt.xlabel('Clases')\n",
        "plt.ylabel('Número de Muestras')\n",
        "plt.title('Conjunto de Entrenamiento')\n",
        "\n",
        "plt.subplot(1, 3, 2)\n",
        "conteo_clases_test.plot(kind='bar', color='skyblue')\n",
        "plt.xlabel('Clases')\n",
        "plt.ylabel('Número de Muestras')\n",
        "plt.title('Conjunto de Prueba')\n",
        "\n",
        "\n",
        "plt.subplot(1, 3, 3)\n",
        "conteo_clases_test.plot(kind='bar', color='skyblue')\n",
        "plt.xlabel('Clases')\n",
        "plt.ylabel('Número de Muestras')\n",
        "plt.title('Conjunto de Validacion')\n",
        "\n",
        "plt.tight_layout()\n",
        "plt.show()"
      ],
      "metadata": {
        "id": "gc2LdjZHSrKe",
        "outputId": "55496f23-7e15-48cc-8ead-c28737dcabdd",
        "colab": {
          "base_uri": "https://localhost:8080/",
          "height": 0
        }
      },
      "execution_count": 11,
      "outputs": [
        {
          "output_type": "display_data",
          "data": {
            "text/plain": [
              "<Figure size 1000x500 with 3 Axes>"
            ],
            "image/png": "[encoded data removed]"
          },
          "metadata": {}
        }
      ]
    },
    {
      "cell_type": "markdown",
      "source": [
        "### 5.3 Codificación de la variable de salida\n",
        "Al estar frente a un problema de clasificación multiclase (5 clases distintas) es importante codificar estos valores para asegurar la compatibilidad con los algoritmos de aprendizaje automático. Para ello, utilizamos la clase LabelBinarizer de scikit learn."
      ],
      "metadata": {
        "id": "8vjn46m1TpfF"
      }
    },
    {
      "cell_type": "code",
      "source": [
        "print(y_train_raw)\n",
        "# Binarizamos la variable de salida usando LabelBinarizer\n",
        "label_binarizer = LabelBinarizer()\n",
        "\n",
        "# Binarizamos y_train\n",
        "y_train_binarized = label_binarizer.fit_transform(y_train_raw)\n",
        "\n",
        "# Binarizamos y_validation\n",
        "y_validation_binarized = label_binarizer.transform(y_validation_raw)\n",
        "\n",
        "# Binarizamos y_test\n",
        "y_test_binarized = label_binarizer.transform(y_test_raw)"
      ],
      "metadata": {
        "id": "LMrCV6hJXTfL",
        "outputId": "ea6c4535-a9a3-459f-e37c-6492a33bd94a",
        "colab": {
          "base_uri": "https://localhost:8080/"
        }
      },
      "execution_count": 12,
      "outputs": [
        {
          "output_type": "stream",
          "name": "stdout",
          "text": [
            "25688    0\n",
            "22960    0\n",
            "12721    3\n",
            "4071     1\n",
            "708      2\n",
            "        ..\n",
            "1535     0\n",
            "20962    0\n",
            "10501    3\n",
            "27156    2\n",
            "4968     3\n",
            "Name: label, Length: 15547, dtype: int64\n"
          ]
        }
      ]
    },
    {
      "cell_type": "markdown",
      "source": [
        "### 5.1 Normalización\n",
        "Para que no se produzca information leakage y no dar información al conjunto de test, normalizamos todos los datos con el mínimo y máximo obtenido del conjunto de entrenamiento."
      ],
      "metadata": {
        "id": "nI1wNR0fyy2j"
      }
    },
    {
      "cell_type": "code",
      "source": [
        "X_train = X_train_raw\n",
        "X_validation = X_validation_raw\n",
        "X_test = X_test_raw\n",
        "\n",
        "for columna in X_train_raw:\n",
        " # Obtenemos el minimo y el maximo de cada columna del conjunto de train\n",
        "  min = X_train_raw[columna].min()\n",
        "  max = X_train_raw[columna].max()\n",
        "  # Conjunto de entrenamiento\n",
        "  X_train[columna] = (X_train_raw[columna] - min)/(max - min)\n",
        "  # Conjunto de validación\n",
        "  X_validation[columna] = (X_validation_raw[columna] - min)/(max - min)\n",
        "  # Conjunto de test\n",
        "  X_test[columna] = (X_test_raw[columna] - min)/(max - min)\n",
        "\n",
        "y_min = y_train_binarized.min()\n",
        "y_max = y_train_binarized.max()\n",
        "# Conjunto de entrenamiento\n",
        "y_train = (y_train_binarized - y_min)/(y_max - y_min)\n",
        "# Conjunto de validación\n",
        "y_validation = (y_validation_binarized - y_min)/(y_max - y_min)\n",
        "# Conjunto de test\n",
        "y_test = (y_test_binarized - y_min)/(y_max - y_min)\n",
        "\n",
        "# Guardamos los conjuntos de datos en archivos CSV\n",
        "X_train.to_csv('X_train.csv', index=False)\n",
        "pd.DataFrame(y_train).to_csv('y_train.csv', index=False)\n",
        "X_validation.to_csv('X_validation.csv', index=False)\n",
        "pd.DataFrame(y_validation).to_csv('y_validation.csv', index=False)\n",
        "X_test.to_csv('X_test.csv', index=False)\n",
        "pd.DataFrame(y_test).to_csv('y_test.csv', index=False)"
      ],
      "metadata": {
        "id": "prlS0EAbx-_6"
      },
      "execution_count": 13,
      "outputs": []
    },
    {
      "cell_type": "markdown",
      "source": [
        "### 5.2 Aleatorización\n",
        "La aleatorización de los datos la hemos realizado al dividir el conjunto de datos en train, test y validation al especificar el parametro shuffle = True."
      ],
      "metadata": {
        "id": "PYbn2KoGveBC"
      }
    },
    {
      "cell_type": "markdown",
      "source": [
        "### 5.6 Balanceo"
      ],
      "metadata": {
        "id": "1uEH1BuCd0Mp"
      }
    },
    {
      "cell_type": "markdown",
      "source": [
        "## 6. Perceptrón Multicapa"
      ],
      "metadata": {
        "id": "GtpQaB4wj562"
      }
    },
    {
      "cell_type": "markdown",
      "source": [
        "### 6.1 Implementación\n",
        "Tratamos de optimizar el MSE de validación.\n",
        "\n",
        "Criterio de parada --> Early Stopping.\n",
        "\n",
        "Parámetro que indica si queremos balanceo de los datos o no --> class weight --> los pesos se calculan automáticamente"
      ],
      "metadata": {
        "id": "grlDOjTxfIuF"
      }
    },
    {
      "cell_type": "code",
      "source": [
        "input_shape=(X_train.shape [1],) # utilizamos los datos de entrenamiento para definir la tupla.\n",
        "\n",
        "def build_and_train_mlp(learning_rate, num_hidden_layers, num_neurons, activation_function, epochs, patience=6, balance_classes=False):\n",
        "    model = Sequential()\n",
        "\n",
        "    # Capa de entrada\n",
        "    model.add(Dense(num_neurons[0], activation=activation_function, input_shape=input_shape))\n",
        "\n",
        "    # Capas ocultas\n",
        "    for i in range(1, num_hidden_layers):\n",
        "        model.add(Dense(num_neurons[i], activation=activation_function))\n",
        "\n",
        "    # Capa de salida (5 clases --> 5 neuronas)\n",
        "    model.add(Dense(5, activation='softmax'))\n",
        "\n",
        "    model.compile(loss='mean_squared_error', optimizer=tf.keras.optimizers.SGD(learning_rate=learning_rate, momentum=0), metrics=['mse'])\n",
        "\n",
        "    # Calculamos los pesos de clase para el balanceo si es necesario\n",
        "    if balance_classes:\n",
        "        class_weights = compute_class_weight(class_weight='balanced', classes=np.unique(y_train_raw), y=y_train_raw) # Especificamos las clases sin codificarlas con el OHE\n",
        "        class_weight_dict = dict(enumerate(class_weights))\n",
        "    else:\n",
        "        class_weight_dict = None\n",
        "\n",
        "    # Definimos el criterio de parada Early Stopping\n",
        "    early_stopping = EarlyStopping(monitor='val_loss', patience=patience, restore_best_weights=True) # Especificamos la paciencia introducida como parámetro y que se restauren automáticamente los pesos a la mejor época\n",
        "\n",
        "    start_time = time.time()\n",
        "    # Entrenamos el modelo, incluyendo o no el balanceo de clases según el parámetro\n",
        "    historico = model.fit(X_train, y_train, epochs=epochs, batch_size=32, callbacks=[early_stopping], validation_data=(X_validation, y_validation), class_weight=class_weight_dict, verbose=0)\n",
        "    tiempo_total = time.time() - start_time\n",
        "    print(f\"Tiempo de entrenamiento para (lr = {learning_rate}, epoch = {epochs}, num_hidden_layers={num_hidden_layers}, num_neurons={num_neurons}, activation_function={activation_function}): {tiempo_total}s\")\n",
        "\n",
        "    return model,historico\n",
        "\n"
      ],
      "metadata": {
        "id": "Q_ZBTuJxxnsn"
      },
      "execution_count": 16,
      "outputs": []
    },
    {
      "cell_type": "code",
      "source": [
        "modelo, historico = build_and_train_mlp(0.2, 2, [60,30], 'relu', 20)\n",
        "# Obtenemos las predicciones\n",
        "prediccion = modelo.predict(X_test)\n",
        "# Obtenemos el MSE de test\n",
        "mse_test = mean_squared_error(y_test, prediccion)\n",
        "print(\"MSE_TEST SIN DESBINARIZAR\", mse_test)\n",
        "\n",
        "\n",
        "y_pred_classes = np.argmax(prediccion, axis=1)\n",
        "y_test_classes = np.argmax(y_test, axis=1)\n",
        "mse_test = mean_squared_error(y_test, prediccion)\n",
        "\n",
        "print(\"MSE_TESTDESBINARIZADO\",mse_test)\n",
        "\n",
        "accuracy = accuracy_score(y_test_classes, y_pred_classes)\n",
        "recall = recall_score(y_test_classes, y_pred_classes, average=None)\n",
        "precision = precision_score(y_test_classes, y_pred_classes, average=None)\n",
        "f1 = f1_score(y_test_classes, y_pred_classes, average=None)\n",
        "conf_matrix = confusion_matrix(y_test_classes, y_pred_classes)\n",
        "conf_matrix_rate = conf_matrix / conf_matrix.sum(axis=1)[:, np.newaxis]\n",
        "print(\"ACCURACY\",accuracy)\n",
        "print(\"RECALL\",recall)\n",
        "print(\"PRECISION\",precision)\n",
        "print(\"F1\",f1)\n",
        "print(\"MATRIZ DE CONFUSION \\n\",conf_matrix)\n",
        "print(\"MATRIZ DE CONFUSION RATE \\n\",conf_matrix_rate)\n",
        "\n",
        "print('Classification Report')\n",
        "print(classification_report(y_test_classes, y_pred_classes))"
      ],
      "metadata": {
        "id": "_aABXgEHO_Ia",
        "outputId": "e2b98359-d2dc-4f32-e9d7-ebfbd97e1b61",
        "colab": {
          "base_uri": "https://localhost:8080/",
          "height": 515
        }
      },
      "execution_count": 17,
      "outputs": [
        {
          "output_type": "stream",
          "name": "stdout",
          "text": [
            "Tiempo de entrenamiento para (lr = 0.2, epoch = 20, num_hidden_layers=2, num_neurons=[60, 30], activation_function=relu): 41.525065898895264s\n",
            "304/304 [==============================] - 1s 2ms/step\n",
            "MSE_TEST SIN DESBINARIZAR 0.0694346106733488\n",
            "MSE_TESTDESBINARIZADO 0.0694346106733488\n"
          ]
        },
        {
          "output_type": "error",
          "ename": "ValueError",
          "evalue": "ignored",
          "traceback": [
            "\u001b[0;31m---------------------------------------------------------------------------\u001b[0m",
            "\u001b[0;31mValueError\u001b[0m                                Traceback (most recent call last)",
            "\u001b[0;32m<ipython-input-17-e7130a84ee75>\u001b[0m in \u001b[0;36m<cell line: 18>\u001b[0;34m()\u001b[0m\n\u001b[1;32m     16\u001b[0m \u001b[0mrecall\u001b[0m \u001b[0;34m=\u001b[0m \u001b[0mrecall_score\u001b[0m\u001b[0;34m(\u001b[0m\u001b[0my_test_classes\u001b[0m\u001b[0;34m,\u001b[0m \u001b[0my_pred_classes\u001b[0m\u001b[0;34m,\u001b[0m \u001b[0maverage\u001b[0m\u001b[0;34m=\u001b[0m\u001b[0;32mNone\u001b[0m\u001b[0;34m)\u001b[0m\u001b[0;34m\u001b[0m\u001b[0;34m\u001b[0m\u001b[0m\n\u001b[1;32m     17\u001b[0m \u001b[0mprecision\u001b[0m \u001b[0;34m=\u001b[0m \u001b[0mprecision_score\u001b[0m\u001b[0;34m(\u001b[0m\u001b[0my_test_classes\u001b[0m\u001b[0;34m,\u001b[0m \u001b[0my_pred_classes\u001b[0m\u001b[0;34m,\u001b[0m \u001b[0maverage\u001b[0m\u001b[0;34m=\u001b[0m\u001b[0;32mNone\u001b[0m\u001b[0;34m)\u001b[0m\u001b[0;34m\u001b[0m\u001b[0;34m\u001b[0m\u001b[0m\n\u001b[0;32m---> 18\u001b[0;31m \u001b[0mf1\u001b[0m \u001b[0;34m=\u001b[0m \u001b[0mf1_score\u001b[0m\u001b[0;34m(\u001b[0m\u001b[0my_test_classes\u001b[0m\u001b[0;34m,\u001b[0m \u001b[0my_pred_classes\u001b[0m\u001b[0;34m)\u001b[0m\u001b[0;34m\u001b[0m\u001b[0;34m\u001b[0m\u001b[0m\n\u001b[0m\u001b[1;32m     19\u001b[0m \u001b[0mconf_matrix\u001b[0m \u001b[0;34m=\u001b[0m \u001b[0mconfusion_matrix\u001b[0m\u001b[0;34m(\u001b[0m\u001b[0my_test_classes\u001b[0m\u001b[0;34m,\u001b[0m \u001b[0my_pred_classes\u001b[0m\u001b[0;34m)\u001b[0m\u001b[0;34m\u001b[0m\u001b[0;34m\u001b[0m\u001b[0m\n\u001b[1;32m     20\u001b[0m \u001b[0mconf_matrix_rate\u001b[0m \u001b[0;34m=\u001b[0m \u001b[0mconf_matrix\u001b[0m \u001b[0;34m/\u001b[0m \u001b[0mconf_matrix\u001b[0m\u001b[0;34m.\u001b[0m\u001b[0msum\u001b[0m\u001b[0;34m(\u001b[0m\u001b[0maxis\u001b[0m\u001b[0;34m=\u001b[0m\u001b[0;36m1\u001b[0m\u001b[0;34m)\u001b[0m\u001b[0;34m[\u001b[0m\u001b[0;34m:\u001b[0m\u001b[0;34m,\u001b[0m \u001b[0mnp\u001b[0m\u001b[0;34m.\u001b[0m\u001b[0mnewaxis\u001b[0m\u001b[0;34m]\u001b[0m\u001b[0;34m\u001b[0m\u001b[0;34m\u001b[0m\u001b[0m\n",
            "\u001b[0;32m/usr/local/lib/python3.10/dist-packages/sklearn/metrics/_classification.py\u001b[0m in \u001b[0;36mf1_score\u001b[0;34m(y_true, y_pred, labels, pos_label, average, sample_weight, zero_division)\u001b[0m\n\u001b[1;32m   1144\u001b[0m     \u001b[0marray\u001b[0m\u001b[0;34m(\u001b[0m\u001b[0;34m[\u001b[0m\u001b[0;36m0.66666667\u001b[0m\u001b[0;34m,\u001b[0m \u001b[0;36m1.\u001b[0m        \u001b[0;34m,\u001b[0m \u001b[0;36m0.66666667\u001b[0m\u001b[0;34m]\u001b[0m\u001b[0;34m)\u001b[0m\u001b[0;34m\u001b[0m\u001b[0;34m\u001b[0m\u001b[0m\n\u001b[1;32m   1145\u001b[0m     \"\"\"\n\u001b[0;32m-> 1146\u001b[0;31m     return fbeta_score(\n\u001b[0m\u001b[1;32m   1147\u001b[0m         \u001b[0my_true\u001b[0m\u001b[0;34m,\u001b[0m\u001b[0;34m\u001b[0m\u001b[0;34m\u001b[0m\u001b[0m\n\u001b[1;32m   1148\u001b[0m         \u001b[0my_pred\u001b[0m\u001b[0;34m,\u001b[0m\u001b[0;34m\u001b[0m\u001b[0;34m\u001b[0m\u001b[0m\n",
            "\u001b[0;32m/usr/local/lib/python3.10/dist-packages/sklearn/metrics/_classification.py\u001b[0m in \u001b[0;36mfbeta_score\u001b[0;34m(y_true, y_pred, beta, labels, pos_label, average, sample_weight, zero_division)\u001b[0m\n\u001b[1;32m   1285\u001b[0m     \"\"\"\n\u001b[1;32m   1286\u001b[0m \u001b[0;34m\u001b[0m\u001b[0m\n\u001b[0;32m-> 1287\u001b[0;31m     _, _, f, _ = precision_recall_fscore_support(\n\u001b[0m\u001b[1;32m   1288\u001b[0m         \u001b[0my_true\u001b[0m\u001b[0;34m,\u001b[0m\u001b[0;34m\u001b[0m\u001b[0;34m\u001b[0m\u001b[0m\n\u001b[1;32m   1289\u001b[0m         \u001b[0my_pred\u001b[0m\u001b[0;34m,\u001b[0m\u001b[0;34m\u001b[0m\u001b[0;34m\u001b[0m\u001b[0m\n",
            "\u001b[0;32m/usr/local/lib/python3.10/dist-packages/sklearn/metrics/_classification.py\u001b[0m in \u001b[0;36mprecision_recall_fscore_support\u001b[0;34m(y_true, y_pred, beta, labels, pos_label, average, warn_for, sample_weight, zero_division)\u001b[0m\n\u001b[1;32m   1571\u001b[0m     \u001b[0;32mif\u001b[0m \u001b[0mbeta\u001b[0m \u001b[0;34m<\u001b[0m \u001b[0;36m0\u001b[0m\u001b[0;34m:\u001b[0m\u001b[0;34m\u001b[0m\u001b[0;34m\u001b[0m\u001b[0m\n\u001b[1;32m   1572\u001b[0m         \u001b[0;32mraise\u001b[0m \u001b[0mValueError\u001b[0m\u001b[0;34m(\u001b[0m\u001b[0;34m\"beta should be >=0 in the F-beta score\"\u001b[0m\u001b[0;34m)\u001b[0m\u001b[0;34m\u001b[0m\u001b[0;34m\u001b[0m\u001b[0m\n\u001b[0;32m-> 1573\u001b[0;31m     \u001b[0mlabels\u001b[0m \u001b[0;34m=\u001b[0m \u001b[0m_check_set_wise_labels\u001b[0m\u001b[0;34m(\u001b[0m\u001b[0my_true\u001b[0m\u001b[0;34m,\u001b[0m \u001b[0my_pred\u001b[0m\u001b[0;34m,\u001b[0m \u001b[0maverage\u001b[0m\u001b[0;34m,\u001b[0m \u001b[0mlabels\u001b[0m\u001b[0;34m,\u001b[0m \u001b[0mpos_label\u001b[0m\u001b[0;34m)\u001b[0m\u001b[0;34m\u001b[0m\u001b[0;34m\u001b[0m\u001b[0m\n\u001b[0m\u001b[1;32m   1574\u001b[0m \u001b[0;34m\u001b[0m\u001b[0m\n\u001b[1;32m   1575\u001b[0m     \u001b[0;31m# Calculate tp_sum, pred_sum, true_sum ###\u001b[0m\u001b[0;34m\u001b[0m\u001b[0;34m\u001b[0m\u001b[0m\n",
            "\u001b[0;32m/usr/local/lib/python3.10/dist-packages/sklearn/metrics/_classification.py\u001b[0m in \u001b[0;36m_check_set_wise_labels\u001b[0;34m(y_true, y_pred, average, labels, pos_label)\u001b[0m\n\u001b[1;32m   1389\u001b[0m             \u001b[0;32mif\u001b[0m \u001b[0my_type\u001b[0m \u001b[0;34m==\u001b[0m \u001b[0;34m\"multiclass\"\u001b[0m\u001b[0;34m:\u001b[0m\u001b[0;34m\u001b[0m\u001b[0;34m\u001b[0m\u001b[0m\n\u001b[1;32m   1390\u001b[0m                 \u001b[0maverage_options\u001b[0m\u001b[0;34m.\u001b[0m\u001b[0mremove\u001b[0m\u001b[0;34m(\u001b[0m\u001b[0;34m\"samples\"\u001b[0m\u001b[0;34m)\u001b[0m\u001b[0;34m\u001b[0m\u001b[0;34m\u001b[0m\u001b[0m\n\u001b[0;32m-> 1391\u001b[0;31m             raise ValueError(\n\u001b[0m\u001b[1;32m   1392\u001b[0m                 \u001b[0;34m\"Target is %s but average='binary'. Please \"\u001b[0m\u001b[0;34m\u001b[0m\u001b[0;34m\u001b[0m\u001b[0m\n\u001b[1;32m   1393\u001b[0m                 \u001b[0;34m\"choose another average setting, one of %r.\"\u001b[0m \u001b[0;34m%\u001b[0m \u001b[0;34m(\u001b[0m\u001b[0my_type\u001b[0m\u001b[0;34m,\u001b[0m \u001b[0maverage_options\u001b[0m\u001b[0;34m)\u001b[0m\u001b[0;34m\u001b[0m\u001b[0;34m\u001b[0m\u001b[0m\n",
            "\u001b[0;31mValueError\u001b[0m: Target is multiclass but average='binary'. Please choose another average setting, one of [None, 'micro', 'macro', 'weighted']."
          ]
        }
      ]
    },
    {
      "cell_type": "markdown",
      "source": [
        "### 6.2 Experimentos realizados\n",
        "A continuación, debemos elegir los mejores hiperparámetros para nuestro conjunto de datos. Para ello, construimos distintos modelos con diferentes hiperparámetros. Escogeremos el modelo con la combinación de hiperparámetros cuyo MSE de validación sea el menor."
      ],
      "metadata": {
        "id": "1LfyfFJ0Uokv"
      }
    },
    {
      "cell_type": "code",
      "source": [
        "# Definimos las listas de valores para los hiperparámetros\n",
        "learning_rates = [0.2, 0.1, 0.05]\n",
        "hidden_layers_list = {1: [30],\n",
        "                      2: [60,30],\n",
        "                      3: [50,25,15]}\n",
        "activation_functions = ['relu', 'sigmoid', 'softmax']\n",
        "epochs_list = [100]\n",
        "\n",
        "# Crear un DataFrame vacío para almacenar los resultados\n",
        "resultados_df = pd.DataFrame(columns=['Learning Rate', 'Hidden Layers', 'Neurons', 'Activation Function', 'Epochs', 'Best Epoch', 'Tiempo de Entrenamiento', 'Train MSE', 'Validation MSE', 'Test MSE'])\n",
        "\n",
        "# Iteramos sobre todas las combinaciones de hiperparámetros\n",
        "for lr in learning_rates:\n",
        "    for num_hidden_layers, num_neurons in hidden_layers_list.items():  # Utilizamos items() para obtener tanto la clave como el valor del diccionario\n",
        "        for activation_function in activation_functions:\n",
        "            for epochs in epochs_list:\n",
        "\n",
        "                start_time = time.time()\n",
        "                # Construimos y entrenamos un modelo con los hiperparámetros actuales\n",
        "                modelo, historico = build_and_train_mlp(lr, num_hidden_layers, num_neurons, activation_function, epochs)\n",
        "                tiempo_total = time.time() - start_time\n",
        "\n",
        "                # Obtenemos las predicciones\n",
        "                prediccion = modelo.predict(X_test)\n",
        "                # Obtenemos el MSE de test\n",
        "                mse_test = mean_squared_error(y_test, prediccion)\n",
        "                print(f\"MSE de test ((lr = {lr}, epoch = {epochs}, num_hidden_layers={num_hidden_layers}, num_neurons={num_neurons}, activation_function={activation_function}): {mse_test:.2e}\")\n",
        "\n",
        "                # Obtenemos los errores de entrenamiento y validación\n",
        "                mse_train = historico.history['loss']\n",
        "                mse_val = historico.history['val_loss']\n",
        "\n",
        "                # Encontramos la época en la que el MSE de validación es el menor\n",
        "                best_epoch = np.argmin(mse_val) + 1\n",
        "\n",
        "                # Obtenemos el valor mínimo del MSE de entrenamiento\n",
        "                min_mse_train = np.min(mse_train)\n",
        "                # Obtenemos el valor mínimo del MSE de validación\n",
        "                min_mse_val = np.min(mse_val)\n",
        "\n",
        "                print(f\"Época con el menor MSE de validación: {best_epoch + 1}\")  # Sumamos 1 porque las épocas comienzan desde 0\n",
        "                print(f\"MSE de validación mínimo: {min_mse_val:.2e} \\n\")\n",
        "\n",
        "                # Agregamos los resultados a DataFrame\n",
        "                resultados_df = resultados_df.append({\n",
        "                    'Learning Rate': lr,\n",
        "                    'Hidden Layers': num_hidden_layers,\n",
        "                    'Neurons': num_neurons,\n",
        "                    'Activation Function': activation_function,\n",
        "                    'Epochs': epochs,\n",
        "                    'Best Epoch': best_epoch,\n",
        "                    'Tiempo de Entrenamiento': tiempo_total,\n",
        "                    'Train MSE': min_mse_train,\n",
        "                    'Validation MSE': min_mse_val,\n",
        "                    'Test MSE': mse_test\n",
        "                }, ignore_index=True)\n",
        "\n",
        "                # Graficamos la evolución del MSE durante el entrenamiento\n",
        "                plt.plot(mse_train, label='Train MSE')\n",
        "                plt.plot(mse_val, label='Validation MSE')\n",
        "                plt.title(f'Evolución del MSE - lr={lr}, epochs={epochs}, layers={num_hidden_layers}, neurons={num_neurons}, activation={activation_function}')\n",
        "                plt.xlabel('Épocas')\n",
        "                plt.ylabel('MSE')\n",
        "                plt.legend()\n",
        "                plt.show()\n",
        "\n",
        "# Mostrar el DataFrame\n",
        "resultados_df.to_csv('RESULTADOS_pruebas.csv', index=False)"
      ],
      "metadata": {
        "colab": {
          "base_uri": "https://localhost:8080/",
          "height": 426
        },
        "id": "tuRw4ukdfNsY",
        "outputId": "12dcf8f8-16af-4533-9e7a-641a2aae3b67"
      },
      "execution_count": 14,
      "outputs": [
        {
          "output_type": "error",
          "ename": "KeyboardInterrupt",
          "evalue": "ignored",
          "traceback": [
            "\u001b[0;31m---------------------------------------------------------------------------\u001b[0m",
            "\u001b[0;31mKeyboardInterrupt\u001b[0m                         Traceback (most recent call last)",
            "\u001b[0;32m<ipython-input-14-c21e2dad692a>\u001b[0m in \u001b[0;36m<cell line: 13>\u001b[0;34m()\u001b[0m\n\u001b[1;32m     18\u001b[0m                 \u001b[0mstart_time\u001b[0m \u001b[0;34m=\u001b[0m \u001b[0mtime\u001b[0m\u001b[0;34m.\u001b[0m\u001b[0mtime\u001b[0m\u001b[0;34m(\u001b[0m\u001b[0;34m)\u001b[0m\u001b[0;34m\u001b[0m\u001b[0;34m\u001b[0m\u001b[0m\n\u001b[1;32m     19\u001b[0m                 \u001b[0;31m# Construimos y entrenamos un modelo con los hiperparámetros actuales\u001b[0m\u001b[0;34m\u001b[0m\u001b[0;34m\u001b[0m\u001b[0m\n\u001b[0;32m---> 20\u001b[0;31m                 \u001b[0mmodelo\u001b[0m\u001b[0;34m,\u001b[0m \u001b[0mhistorico\u001b[0m \u001b[0;34m=\u001b[0m \u001b[0mbuild_and_train_mlp\u001b[0m\u001b[0;34m(\u001b[0m\u001b[0mlr\u001b[0m\u001b[0;34m,\u001b[0m \u001b[0mnum_hidden_layers\u001b[0m\u001b[0;34m,\u001b[0m \u001b[0mnum_neurons\u001b[0m\u001b[0;34m,\u001b[0m \u001b[0mactivation_function\u001b[0m\u001b[0;34m,\u001b[0m \u001b[0mepochs\u001b[0m\u001b[0;34m)\u001b[0m\u001b[0;34m\u001b[0m\u001b[0;34m\u001b[0m\u001b[0m\n\u001b[0m\u001b[1;32m     21\u001b[0m                 \u001b[0mtiempo_total\u001b[0m \u001b[0;34m=\u001b[0m \u001b[0mtime\u001b[0m\u001b[0;34m.\u001b[0m\u001b[0mtime\u001b[0m\u001b[0;34m(\u001b[0m\u001b[0;34m)\u001b[0m \u001b[0;34m-\u001b[0m \u001b[0mstart_time\u001b[0m\u001b[0;34m\u001b[0m\u001b[0;34m\u001b[0m\u001b[0m\n\u001b[1;32m     22\u001b[0m \u001b[0;34m\u001b[0m\u001b[0m\n",
            "\u001b[0;32m<ipython-input-13-1f9a391e9066>\u001b[0m in \u001b[0;36mbuild_and_train_mlp\u001b[0;34m(learning_rate, num_hidden_layers, num_neurons, activation_function, epochs, patience, balance_classes)\u001b[0m\n\u001b[1;32m     28\u001b[0m     \u001b[0mstart_time\u001b[0m \u001b[0;34m=\u001b[0m \u001b[0mtime\u001b[0m\u001b[0;34m.\u001b[0m\u001b[0mtime\u001b[0m\u001b[0;34m(\u001b[0m\u001b[0;34m)\u001b[0m\u001b[0;34m\u001b[0m\u001b[0;34m\u001b[0m\u001b[0m\n\u001b[1;32m     29\u001b[0m     \u001b[0;31m# Entrenamos el modelo, incluyendo o no el balanceo de clases según el parámetro\u001b[0m\u001b[0;34m\u001b[0m\u001b[0;34m\u001b[0m\u001b[0m\n\u001b[0;32m---> 30\u001b[0;31m     \u001b[0mhistorico\u001b[0m \u001b[0;34m=\u001b[0m \u001b[0mmodel\u001b[0m\u001b[0;34m.\u001b[0m\u001b[0mfit\u001b[0m\u001b[0;34m(\u001b[0m\u001b[0mX_train\u001b[0m\u001b[0;34m,\u001b[0m \u001b[0my_train\u001b[0m\u001b[0;34m,\u001b[0m \u001b[0mepochs\u001b[0m\u001b[0;34m=\u001b[0m\u001b[0mepochs\u001b[0m\u001b[0;34m,\u001b[0m \u001b[0mbatch_size\u001b[0m\u001b[0;34m=\u001b[0m\u001b[0;36m32\u001b[0m\u001b[0;34m,\u001b[0m \u001b[0mcallbacks\u001b[0m\u001b[0;34m=\u001b[0m\u001b[0;34m[\u001b[0m\u001b[0mearly_stopping\u001b[0m\u001b[0;34m]\u001b[0m\u001b[0;34m,\u001b[0m \u001b[0mvalidation_data\u001b[0m\u001b[0;34m=\u001b[0m\u001b[0;34m(\u001b[0m\u001b[0mX_validation\u001b[0m\u001b[0;34m,\u001b[0m \u001b[0my_validation\u001b[0m\u001b[0;34m)\u001b[0m\u001b[0;34m,\u001b[0m \u001b[0mclass_weight\u001b[0m\u001b[0;34m=\u001b[0m\u001b[0mclass_weight_dict\u001b[0m\u001b[0;34m,\u001b[0m \u001b[0mverbose\u001b[0m\u001b[0;34m=\u001b[0m\u001b[0;36m0\u001b[0m\u001b[0;34m)\u001b[0m\u001b[0;34m\u001b[0m\u001b[0;34m\u001b[0m\u001b[0m\n\u001b[0m\u001b[1;32m     31\u001b[0m     \u001b[0mtiempo_total\u001b[0m \u001b[0;34m=\u001b[0m \u001b[0mtime\u001b[0m\u001b[0;34m.\u001b[0m\u001b[0mtime\u001b[0m\u001b[0;34m(\u001b[0m\u001b[0;34m)\u001b[0m \u001b[0;34m-\u001b[0m \u001b[0mstart_time\u001b[0m\u001b[0;34m\u001b[0m\u001b[0;34m\u001b[0m\u001b[0m\n\u001b[1;32m     32\u001b[0m     \u001b[0mprint\u001b[0m\u001b[0;34m(\u001b[0m\u001b[0;34mf\"Tiempo de entrenamiento para (lr = {learning_rate}, epoch = {epochs}, num_hidden_layers={num_hidden_layers}, num_neurons={num_neurons}, activation_function={activation_function}): {tiempo_total}s\"\u001b[0m\u001b[0;34m)\u001b[0m\u001b[0;34m\u001b[0m\u001b[0;34m\u001b[0m\u001b[0m\n",
            "\u001b[0;32m/usr/local/lib/python3.10/dist-packages/keras/src/utils/traceback_utils.py\u001b[0m in \u001b[0;36merror_handler\u001b[0;34m(*args, **kwargs)\u001b[0m\n\u001b[1;32m     63\u001b[0m         \u001b[0mfiltered_tb\u001b[0m \u001b[0;34m=\u001b[0m \u001b[0;32mNone\u001b[0m\u001b[0;34m\u001b[0m\u001b[0;34m\u001b[0m\u001b[0m\n\u001b[1;32m     64\u001b[0m         \u001b[0;32mtry\u001b[0m\u001b[0;34m:\u001b[0m\u001b[0;34m\u001b[0m\u001b[0;34m\u001b[0m\u001b[0m\n\u001b[0;32m---> 65\u001b[0;31m             \u001b[0;32mreturn\u001b[0m \u001b[0mfn\u001b[0m\u001b[0;34m(\u001b[0m\u001b[0;34m*\u001b[0m\u001b[0margs\u001b[0m\u001b[0;34m,\u001b[0m \u001b[0;34m**\u001b[0m\u001b[0mkwargs\u001b[0m\u001b[0;34m)\u001b[0m\u001b[0;34m\u001b[0m\u001b[0;34m\u001b[0m\u001b[0m\n\u001b[0m\u001b[1;32m     66\u001b[0m         \u001b[0;32mexcept\u001b[0m \u001b[0mException\u001b[0m \u001b[0;32mas\u001b[0m \u001b[0me\u001b[0m\u001b[0;34m:\u001b[0m\u001b[0;34m\u001b[0m\u001b[0;34m\u001b[0m\u001b[0m\n\u001b[1;32m     67\u001b[0m             \u001b[0mfiltered_tb\u001b[0m \u001b[0;34m=\u001b[0m \u001b[0m_process_traceback_frames\u001b[0m\u001b[0;34m(\u001b[0m\u001b[0me\u001b[0m\u001b[0;34m.\u001b[0m\u001b[0m__traceback__\u001b[0m\u001b[0;34m)\u001b[0m\u001b[0;34m\u001b[0m\u001b[0;34m\u001b[0m\u001b[0m\n",
            "\u001b[0;32m/usr/local/lib/python3.10/dist-packages/keras/src/engine/training.py\u001b[0m in \u001b[0;36mfit\u001b[0;34m(self, x, y, batch_size, epochs, verbose, callbacks, validation_split, validation_data, shuffle, class_weight, sample_weight, initial_epoch, steps_per_epoch, validation_steps, validation_batch_size, validation_freq, max_queue_size, workers, use_multiprocessing)\u001b[0m\n\u001b[1;32m   1781\u001b[0m                         ):\n\u001b[1;32m   1782\u001b[0m                             \u001b[0mcallbacks\u001b[0m\u001b[0;34m.\u001b[0m\u001b[0mon_train_batch_begin\u001b[0m\u001b[0;34m(\u001b[0m\u001b[0mstep\u001b[0m\u001b[0;34m)\u001b[0m\u001b[0;34m\u001b[0m\u001b[0;34m\u001b[0m\u001b[0m\n\u001b[0;32m-> 1783\u001b[0;31m                             \u001b[0mtmp_logs\u001b[0m \u001b[0;34m=\u001b[0m \u001b[0mself\u001b[0m\u001b[0;34m.\u001b[0m\u001b[0mtrain_function\u001b[0m\u001b[0;34m(\u001b[0m\u001b[0miterator\u001b[0m\u001b[0;34m)\u001b[0m\u001b[0;34m\u001b[0m\u001b[0;34m\u001b[0m\u001b[0m\n\u001b[0m\u001b[1;32m   1784\u001b[0m                             \u001b[0;32mif\u001b[0m \u001b[0mdata_handler\u001b[0m\u001b[0;34m.\u001b[0m\u001b[0mshould_sync\u001b[0m\u001b[0;34m:\u001b[0m\u001b[0;34m\u001b[0m\u001b[0;34m\u001b[0m\u001b[0m\n\u001b[1;32m   1785\u001b[0m                                 \u001b[0mcontext\u001b[0m\u001b[0;34m.\u001b[0m\u001b[0masync_wait\u001b[0m\u001b[0;34m(\u001b[0m\u001b[0;34m)\u001b[0m\u001b[0;34m\u001b[0m\u001b[0;34m\u001b[0m\u001b[0m\n",
            "\u001b[0;32m/usr/local/lib/python3.10/dist-packages/tensorflow/python/util/traceback_utils.py\u001b[0m in \u001b[0;36merror_handler\u001b[0;34m(*args, **kwargs)\u001b[0m\n\u001b[1;32m    148\u001b[0m     \u001b[0mfiltered_tb\u001b[0m \u001b[0;34m=\u001b[0m \u001b[0;32mNone\u001b[0m\u001b[0;34m\u001b[0m\u001b[0;34m\u001b[0m\u001b[0m\n\u001b[1;32m    149\u001b[0m     \u001b[0;32mtry\u001b[0m\u001b[0;34m:\u001b[0m\u001b[0;34m\u001b[0m\u001b[0;34m\u001b[0m\u001b[0m\n\u001b[0;32m--> 150\u001b[0;31m       \u001b[0;32mreturn\u001b[0m \u001b[0mfn\u001b[0m\u001b[0;34m(\u001b[0m\u001b[0;34m*\u001b[0m\u001b[0margs\u001b[0m\u001b[0;34m,\u001b[0m \u001b[0;34m**\u001b[0m\u001b[0mkwargs\u001b[0m\u001b[0;34m)\u001b[0m\u001b[0;34m\u001b[0m\u001b[0;34m\u001b[0m\u001b[0m\n\u001b[0m\u001b[1;32m    151\u001b[0m     \u001b[0;32mexcept\u001b[0m \u001b[0mException\u001b[0m \u001b[0;32mas\u001b[0m \u001b[0me\u001b[0m\u001b[0;34m:\u001b[0m\u001b[0;34m\u001b[0m\u001b[0;34m\u001b[0m\u001b[0m\n\u001b[1;32m    152\u001b[0m       \u001b[0mfiltered_tb\u001b[0m \u001b[0;34m=\u001b[0m \u001b[0m_process_traceback_frames\u001b[0m\u001b[0;34m(\u001b[0m\u001b[0me\u001b[0m\u001b[0;34m.\u001b[0m\u001b[0m__traceback__\u001b[0m\u001b[0;34m)\u001b[0m\u001b[0;34m\u001b[0m\u001b[0;34m\u001b[0m\u001b[0m\n",
            "\u001b[0;32m/usr/local/lib/python3.10/dist-packages/tensorflow/python/eager/polymorphic_function/polymorphic_function.py\u001b[0m in \u001b[0;36m__call__\u001b[0;34m(self, *args, **kwds)\u001b[0m\n\u001b[1;32m    829\u001b[0m \u001b[0;34m\u001b[0m\u001b[0m\n\u001b[1;32m    830\u001b[0m       \u001b[0;32mwith\u001b[0m \u001b[0mOptionalXlaContext\u001b[0m\u001b[0;34m(\u001b[0m\u001b[0mself\u001b[0m\u001b[0;34m.\u001b[0m\u001b[0m_jit_compile\u001b[0m\u001b[0;34m)\u001b[0m\u001b[0;34m:\u001b[0m\u001b[0;34m\u001b[0m\u001b[0;34m\u001b[0m\u001b[0m\n\u001b[0;32m--> 831\u001b[0;31m         \u001b[0mresult\u001b[0m \u001b[0;34m=\u001b[0m \u001b[0mself\u001b[0m\u001b[0;34m.\u001b[0m\u001b[0m_call\u001b[0m\u001b[0;34m(\u001b[0m\u001b[0;34m*\u001b[0m\u001b[0margs\u001b[0m\u001b[0;34m,\u001b[0m \u001b[0;34m**\u001b[0m\u001b[0mkwds\u001b[0m\u001b[0;34m)\u001b[0m\u001b[0;34m\u001b[0m\u001b[0;34m\u001b[0m\u001b[0m\n\u001b[0m\u001b[1;32m    832\u001b[0m \u001b[0;34m\u001b[0m\u001b[0m\n\u001b[1;32m    833\u001b[0m       \u001b[0mnew_tracing_count\u001b[0m \u001b[0;34m=\u001b[0m \u001b[0mself\u001b[0m\u001b[0;34m.\u001b[0m\u001b[0mexperimental_get_tracing_count\u001b[0m\u001b[0;34m(\u001b[0m\u001b[0;34m)\u001b[0m\u001b[0;34m\u001b[0m\u001b[0;34m\u001b[0m\u001b[0m\n",
            "\u001b[0;32m/usr/local/lib/python3.10/dist-packages/tensorflow/python/eager/polymorphic_function/polymorphic_function.py\u001b[0m in \u001b[0;36m_call\u001b[0;34m(self, *args, **kwds)\u001b[0m\n\u001b[1;32m    865\u001b[0m       \u001b[0;31m# In this case we have created variables on the first call, so we run the\u001b[0m\u001b[0;34m\u001b[0m\u001b[0;34m\u001b[0m\u001b[0m\n\u001b[1;32m    866\u001b[0m       \u001b[0;31m# defunned version which is guaranteed to never create variables.\u001b[0m\u001b[0;34m\u001b[0m\u001b[0;34m\u001b[0m\u001b[0m\n\u001b[0;32m--> 867\u001b[0;31m       return tracing_compilation.call_function(\n\u001b[0m\u001b[1;32m    868\u001b[0m           \u001b[0margs\u001b[0m\u001b[0;34m,\u001b[0m \u001b[0mkwds\u001b[0m\u001b[0;34m,\u001b[0m \u001b[0mself\u001b[0m\u001b[0;34m.\u001b[0m\u001b[0m_no_variable_creation_config\u001b[0m\u001b[0;34m\u001b[0m\u001b[0;34m\u001b[0m\u001b[0m\n\u001b[1;32m    869\u001b[0m       )\n",
            "\u001b[0;32m/usr/local/lib/python3.10/dist-packages/tensorflow/python/eager/polymorphic_function/tracing_compilation.py\u001b[0m in \u001b[0;36mcall_function\u001b[0;34m(args, kwargs, tracing_options)\u001b[0m\n\u001b[1;32m    137\u001b[0m   \u001b[0mbound_args\u001b[0m \u001b[0;34m=\u001b[0m \u001b[0mfunction\u001b[0m\u001b[0;34m.\u001b[0m\u001b[0mfunction_type\u001b[0m\u001b[0;34m.\u001b[0m\u001b[0mbind\u001b[0m\u001b[0;34m(\u001b[0m\u001b[0;34m*\u001b[0m\u001b[0margs\u001b[0m\u001b[0;34m,\u001b[0m \u001b[0;34m**\u001b[0m\u001b[0mkwargs\u001b[0m\u001b[0;34m)\u001b[0m\u001b[0;34m\u001b[0m\u001b[0;34m\u001b[0m\u001b[0m\n\u001b[1;32m    138\u001b[0m   \u001b[0mflat_inputs\u001b[0m \u001b[0;34m=\u001b[0m \u001b[0mfunction\u001b[0m\u001b[0;34m.\u001b[0m\u001b[0mfunction_type\u001b[0m\u001b[0;34m.\u001b[0m\u001b[0munpack_inputs\u001b[0m\u001b[0;34m(\u001b[0m\u001b[0mbound_args\u001b[0m\u001b[0;34m)\u001b[0m\u001b[0;34m\u001b[0m\u001b[0;34m\u001b[0m\u001b[0m\n\u001b[0;32m--> 139\u001b[0;31m   return function._call_flat(  # pylint: disable=protected-access\n\u001b[0m\u001b[1;32m    140\u001b[0m       \u001b[0mflat_inputs\u001b[0m\u001b[0;34m,\u001b[0m \u001b[0mcaptured_inputs\u001b[0m\u001b[0;34m=\u001b[0m\u001b[0mfunction\u001b[0m\u001b[0;34m.\u001b[0m\u001b[0mcaptured_inputs\u001b[0m\u001b[0;34m\u001b[0m\u001b[0;34m\u001b[0m\u001b[0m\n\u001b[1;32m    141\u001b[0m   )\n",
            "\u001b[0;32m/usr/local/lib/python3.10/dist-packages/tensorflow/python/eager/polymorphic_function/concrete_function.py\u001b[0m in \u001b[0;36m_call_flat\u001b[0;34m(self, tensor_inputs, captured_inputs)\u001b[0m\n\u001b[1;32m   1262\u001b[0m         and executing_eagerly):\n\u001b[1;32m   1263\u001b[0m       \u001b[0;31m# No tape is watching; skip to running the function.\u001b[0m\u001b[0;34m\u001b[0m\u001b[0;34m\u001b[0m\u001b[0m\n\u001b[0;32m-> 1264\u001b[0;31m       \u001b[0;32mreturn\u001b[0m \u001b[0mself\u001b[0m\u001b[0;34m.\u001b[0m\u001b[0m_inference_function\u001b[0m\u001b[0;34m.\u001b[0m\u001b[0mflat_call\u001b[0m\u001b[0;34m(\u001b[0m\u001b[0margs\u001b[0m\u001b[0;34m)\u001b[0m\u001b[0;34m\u001b[0m\u001b[0;34m\u001b[0m\u001b[0m\n\u001b[0m\u001b[1;32m   1265\u001b[0m     forward_backward = self._select_forward_and_backward_functions(\n\u001b[1;32m   1266\u001b[0m         \u001b[0margs\u001b[0m\u001b[0;34m,\u001b[0m\u001b[0;34m\u001b[0m\u001b[0;34m\u001b[0m\u001b[0m\n",
            "\u001b[0;32m/usr/local/lib/python3.10/dist-packages/tensorflow/python/eager/polymorphic_function/atomic_function.py\u001b[0m in \u001b[0;36mflat_call\u001b[0;34m(self, args)\u001b[0m\n\u001b[1;32m    215\u001b[0m   \u001b[0;32mdef\u001b[0m \u001b[0mflat_call\u001b[0m\u001b[0;34m(\u001b[0m\u001b[0mself\u001b[0m\u001b[0;34m,\u001b[0m \u001b[0margs\u001b[0m\u001b[0;34m:\u001b[0m \u001b[0mSequence\u001b[0m\u001b[0;34m[\u001b[0m\u001b[0mcore\u001b[0m\u001b[0;34m.\u001b[0m\u001b[0mTensor\u001b[0m\u001b[0;34m]\u001b[0m\u001b[0;34m)\u001b[0m \u001b[0;34m->\u001b[0m \u001b[0mAny\u001b[0m\u001b[0;34m:\u001b[0m\u001b[0;34m\u001b[0m\u001b[0;34m\u001b[0m\u001b[0m\n\u001b[1;32m    216\u001b[0m     \u001b[0;34m\"\"\"Calls with tensor inputs and returns the structured output.\"\"\"\u001b[0m\u001b[0;34m\u001b[0m\u001b[0;34m\u001b[0m\u001b[0m\n\u001b[0;32m--> 217\u001b[0;31m     \u001b[0mflat_outputs\u001b[0m \u001b[0;34m=\u001b[0m \u001b[0mself\u001b[0m\u001b[0;34m(\u001b[0m\u001b[0;34m*\u001b[0m\u001b[0margs\u001b[0m\u001b[0;34m)\u001b[0m\u001b[0;34m\u001b[0m\u001b[0;34m\u001b[0m\u001b[0m\n\u001b[0m\u001b[1;32m    218\u001b[0m     \u001b[0;32mreturn\u001b[0m \u001b[0mself\u001b[0m\u001b[0;34m.\u001b[0m\u001b[0mfunction_type\u001b[0m\u001b[0;34m.\u001b[0m\u001b[0mpack_output\u001b[0m\u001b[0;34m(\u001b[0m\u001b[0mflat_outputs\u001b[0m\u001b[0;34m)\u001b[0m\u001b[0;34m\u001b[0m\u001b[0;34m\u001b[0m\u001b[0m\n\u001b[1;32m    219\u001b[0m \u001b[0;34m\u001b[0m\u001b[0m\n",
            "\u001b[0;32m/usr/local/lib/python3.10/dist-packages/tensorflow/python/eager/polymorphic_function/atomic_function.py\u001b[0m in \u001b[0;36m__call__\u001b[0;34m(self, *args)\u001b[0m\n\u001b[1;32m    250\u001b[0m         \u001b[0;32mwith\u001b[0m \u001b[0mrecord\u001b[0m\u001b[0;34m.\u001b[0m\u001b[0mstop_recording\u001b[0m\u001b[0;34m(\u001b[0m\u001b[0;34m)\u001b[0m\u001b[0;34m:\u001b[0m\u001b[0;34m\u001b[0m\u001b[0;34m\u001b[0m\u001b[0m\n\u001b[1;32m    251\u001b[0m           \u001b[0;32mif\u001b[0m \u001b[0mself\u001b[0m\u001b[0;34m.\u001b[0m\u001b[0m_bound_context\u001b[0m\u001b[0;34m.\u001b[0m\u001b[0mexecuting_eagerly\u001b[0m\u001b[0;34m(\u001b[0m\u001b[0;34m)\u001b[0m\u001b[0;34m:\u001b[0m\u001b[0;34m\u001b[0m\u001b[0;34m\u001b[0m\u001b[0m\n\u001b[0;32m--> 252\u001b[0;31m             outputs = self._bound_context.call_function(\n\u001b[0m\u001b[1;32m    253\u001b[0m                 \u001b[0mself\u001b[0m\u001b[0;34m.\u001b[0m\u001b[0mname\u001b[0m\u001b[0;34m,\u001b[0m\u001b[0;34m\u001b[0m\u001b[0;34m\u001b[0m\u001b[0m\n\u001b[1;32m    254\u001b[0m                 \u001b[0mlist\u001b[0m\u001b[0;34m(\u001b[0m\u001b[0margs\u001b[0m\u001b[0;34m)\u001b[0m\u001b[0;34m,\u001b[0m\u001b[0;34m\u001b[0m\u001b[0;34m\u001b[0m\u001b[0m\n",
            "\u001b[0;32m/usr/local/lib/python3.10/dist-packages/tensorflow/python/eager/context.py\u001b[0m in \u001b[0;36mcall_function\u001b[0;34m(self, name, tensor_inputs, num_outputs)\u001b[0m\n\u001b[1;32m   1477\u001b[0m     \u001b[0mcancellation_context\u001b[0m \u001b[0;34m=\u001b[0m \u001b[0mcancellation\u001b[0m\u001b[0;34m.\u001b[0m\u001b[0mcontext\u001b[0m\u001b[0;34m(\u001b[0m\u001b[0;34m)\u001b[0m\u001b[0;34m\u001b[0m\u001b[0;34m\u001b[0m\u001b[0m\n\u001b[1;32m   1478\u001b[0m     \u001b[0;32mif\u001b[0m \u001b[0mcancellation_context\u001b[0m \u001b[0;32mis\u001b[0m \u001b[0;32mNone\u001b[0m\u001b[0;34m:\u001b[0m\u001b[0;34m\u001b[0m\u001b[0;34m\u001b[0m\u001b[0m\n\u001b[0;32m-> 1479\u001b[0;31m       outputs = execute.execute(\n\u001b[0m\u001b[1;32m   1480\u001b[0m           \u001b[0mname\u001b[0m\u001b[0;34m.\u001b[0m\u001b[0mdecode\u001b[0m\u001b[0;34m(\u001b[0m\u001b[0;34m\"utf-8\"\u001b[0m\u001b[0;34m)\u001b[0m\u001b[0;34m,\u001b[0m\u001b[0;34m\u001b[0m\u001b[0;34m\u001b[0m\u001b[0m\n\u001b[1;32m   1481\u001b[0m           \u001b[0mnum_outputs\u001b[0m\u001b[0;34m=\u001b[0m\u001b[0mnum_outputs\u001b[0m\u001b[0;34m,\u001b[0m\u001b[0;34m\u001b[0m\u001b[0;34m\u001b[0m\u001b[0m\n",
            "\u001b[0;32m/usr/local/lib/python3.10/dist-packages/tensorflow/python/eager/execute.py\u001b[0m in \u001b[0;36mquick_execute\u001b[0;34m(op_name, num_outputs, inputs, attrs, ctx, name)\u001b[0m\n\u001b[1;32m     58\u001b[0m         \u001b[0;32mfor\u001b[0m \u001b[0mt\u001b[0m \u001b[0;32min\u001b[0m \u001b[0minputs\u001b[0m\u001b[0;34m\u001b[0m\u001b[0;34m\u001b[0m\u001b[0m\n\u001b[1;32m     59\u001b[0m     ]\n\u001b[0;32m---> 60\u001b[0;31m     tensors = pywrap_tfe.TFE_Py_Execute(ctx._handle, device_name, op_name,\n\u001b[0m\u001b[1;32m     61\u001b[0m                                         inputs, attrs, num_outputs)\n\u001b[1;32m     62\u001b[0m   \u001b[0;32mexcept\u001b[0m \u001b[0mcore\u001b[0m\u001b[0;34m.\u001b[0m\u001b[0m_NotOkStatusException\u001b[0m \u001b[0;32mas\u001b[0m \u001b[0me\u001b[0m\u001b[0;34m:\u001b[0m\u001b[0;34m\u001b[0m\u001b[0;34m\u001b[0m\u001b[0m\n",
            "\u001b[0;31mKeyboardInterrupt\u001b[0m: "
          ]
        }
      ]
    },
    {
      "cell_type": "markdown",
      "source": [
        "### 6.3 Exploración de los mejores modelos"
      ],
      "metadata": {
        "id": "tuKjMmO5kC5L"
      }
    },
    {
      "cell_type": "code",
      "source": [
        "# Definimos las listas de valores para los hiperparámetros\n",
        "learning_rates = [0.2, 0.15, 0.1]\n",
        "hidden_layers_list = {2: [60,30],\n",
        "                      3: [50,25,15]}\n",
        "activation_functions = ['relu']\n",
        "epochs_list = [200]\n",
        "\n",
        "# Crear un DataFrame vacío para almacenar los resultados\n",
        "resultados_df = pd.DataFrame(columns=['Learning Rate', 'Hidden Layers', 'Neurons', 'Activation Function', 'Epochs', 'Best Epoch', 'Tiempo de Entrenamiento', 'Train MSE', 'Validation MSE', 'Test MSE'])\n",
        "\n",
        "# Iteramos sobre todas las combinaciones de hiperparámetros\n",
        "for lr in learning_rates:\n",
        "    for num_hidden_layers, num_neurons in hidden_layers_list.items():  # Utilizamos items() para obtener tanto la clave como el valor del diccionario\n",
        "        for activation_function in activation_functions:\n",
        "            for epochs in epochs_list:\n",
        "\n",
        "                start_time = time.time()\n",
        "                # Construimos y entrenamos un modelo con los hiperparámetros actuales\n",
        "                modelo, historico = build_and_train_mlp(lr, num_hidden_layers, num_neurons, activation_function, epochs, patience=20)\n",
        "                tiempo_total = time.time() - start_time\n",
        "\n",
        "                # Obtenemos las predicciones\n",
        "                prediccion = modelo.predict(X_test)\n",
        "                # Obtenemos el MSE de test\n",
        "                mse_test = mean_squared_error(y_test, prediccion)\n",
        "                print(f\"MSE de test ((lr = {lr}, epoch = {epochs}, num_hidden_layers={num_hidden_layers}, num_neurons={num_neurons}, activation_function={activation_function}): {mse_test:.2e}\")\n",
        "\n",
        "                # Obtenemos los errores de entrenamiento y validación\n",
        "                mse_train = historico.history['loss']\n",
        "                mse_val = historico.history['val_loss']\n",
        "\n",
        "                # Encontramos la época en la que el MSE de validación es el menor\n",
        "                best_epoch = np.argmin(mse_val) + 1\n",
        "\n",
        "                # Obtenemos el valor mínimo del MSE de entrenamiento\n",
        "                min_mse_train = np.min(mse_train)\n",
        "                # Obtenemos el valor mínimo del MSE de validación\n",
        "                min_mse_val = np.min(mse_val)\n",
        "\n",
        "                print(f\"Época con el menor MSE de validación: {best_epoch + 1}\")  # Sumamos 1 porque las épocas comienzan desde 0\n",
        "                print(f\"MSE de validación mínimo: {min_mse_val:.2e} \\n\")\n",
        "\n",
        "                # Agregamos los resultados a DataFrame\n",
        "                resultados_df = resultados_df.append({\n",
        "                    'Learning Rate': lr,\n",
        "                    'Hidden Layers': num_hidden_layers,\n",
        "                    'Neurons': num_neurons,\n",
        "                    'Activation Function': activation_function,\n",
        "                    'Epochs': epochs,\n",
        "                    'Best Epoch': best_epoch,\n",
        "                    'Tiempo de Entrenamiento': tiempo_total,\n",
        "                    'Train MSE': min_mse_train,\n",
        "                    'Validation MSE': min_mse_val,\n",
        "                    'Test MSE': mse_test\n",
        "                }, ignore_index=True)\n",
        "\n",
        "                # Graficamos la evolución del MSE durante el entrenamiento\n",
        "                plt.plot(mse_train, label='Train MSE')\n",
        "                plt.plot(mse_val, label='Validation MSE')\n",
        "                plt.title(f'Evolución del MSE - lr={lr}, epochs={epochs}, layers={num_hidden_layers}, neurons={num_neurons}, activation={activation_function}')\n",
        "                plt.xlabel('Épocas')\n",
        "                plt.ylabel('MSE')\n",
        "                plt.legend()\n",
        "                plt.show()\n",
        "\n",
        "# Guardamos el DataFrame\n",
        "print(resultados_df)\n",
        "resultados_df.to_csv('RESULTADOS_mejores.csv', index=False)"
      ],
      "metadata": {
        "id": "SIGGXHnOkGVw"
      },
      "execution_count": null,
      "outputs": []
    },
    {
      "cell_type": "markdown",
      "source": [
        "### 6.3 Elección de los mejores modelos y exploración con balanceo (weights)\n",
        "Elegimos los 3 modelos que menor error de validación han dado, que son los siguientes:\n",
        "- RELU\n",
        "- adios\n",
        "- adsf\n",
        "\n",
        "Los entrenamos otra vez incluyendo el balanceo de clases. Analizamos la influencia que tiene esta técnica de balanceo."
      ],
      "metadata": {
        "id": "5JG6Uf2GEF8d"
      }
    },
    {
      "cell_type": "code",
      "source": [
        "# Definimos las listas de valores para los hiperparámetros\n",
        "learning_rates = [0.2, 0.1, 0.05]\n",
        "hidden_layers_list = {2: [60,30],\n",
        "                      3: [50,25,15]}\n",
        "activation_functions = ['relu']\n",
        "epochs_list = [200]\n",
        "\n",
        "# Crear un DataFrame vacío para almacenar los resultados\n",
        "resultados_df = pd.DataFrame(columns=['Learning Rate', 'Hidden Layers', 'Neurons', 'Activation Function', 'Epochs', 'Best Epoch', 'Tiempo de Entrenamiento', 'Train MSE', 'Validation MSE', 'Test MSE'])\n",
        "\n",
        "# Iteramos sobre todas las combinaciones de hiperparámetros\n",
        "for lr in learning_rates:\n",
        "    for num_hidden_layers, num_neurons in hidden_layers_list.items():  # Utilizamos items() para obtener tanto la clave como el valor del diccionario\n",
        "        for activation_function in activation_functions:\n",
        "            for epochs in epochs_list:\n",
        "\n",
        "                start_time = time.time()\n",
        "                # Construimos y entrenamos un modelo con los hiperparámetros actuales. ESPECIFICAMOS EL PARÁMETRO balance_classes=True\n",
        "                modelo, historico = build_and_train_mlp(lr, num_hidden_layers, num_neurons, activation_function, epochs, balance_classes=True, patience = 20)\n",
        "                tiempo_total = time.time() - start_time\n",
        "\n",
        "                # Obtenemos las predicciones\n",
        "                prediccion = modelo.predict(X_test)\n",
        "                # Obtenemos el MSE de test\n",
        "                mse_test = mean_squared_error(y_test, prediccion)\n",
        "                print(f\"MSE de test ((lr = {lr}, epoch = {epochs}, num_hidden_layers={num_hidden_layers}, num_neurons={num_neurons}, activation_function={activation_function}): {mse_test:.2e}\")\n",
        "\n",
        "                # Obtenemos los errores de entrenamiento y validación\n",
        "                mse_train = historico.history['loss']\n",
        "                mse_val = historico.history['val_loss']\n",
        "\n",
        "                # Encontramos la época en la que el MSE de validación es el menor\n",
        "                best_epoch = np.argmin(mse_val) + 1\n",
        "\n",
        "                # Obtenemos el valor mínimo del MSE de entrenamiento\n",
        "                min_mse_train = np.min(mse_train)\n",
        "                # Obtenemos el valor mínimo del MSE de validación\n",
        "                min_mse_val = np.min(mse_val)\n",
        "\n",
        "                print(f\"Época con el menor MSE de validación: {best_epoch + 1}\")  # Sumamos 1 porque las épocas comienzan desde 0\n",
        "                print(f\"MSE de validación mínimo: {min_mse_val:.2e} \\n\")\n",
        "\n",
        "                # Agregamos los resultados a DataFrame\n",
        "                resultados_df = resultados_df.append({\n",
        "                    'Learning Rate': lr,\n",
        "                    'Hidden Layers': num_hidden_layers,\n",
        "                    'Neurons': num_neurons,\n",
        "                    'Activation Function': activation_function,\n",
        "                    'Epochs': epochs,\n",
        "                    'Best Epoch': best_epoch,\n",
        "                    'Tiempo de Entrenamiento': tiempo_total,\n",
        "                    'Train MSE': min_mse_train,\n",
        "                    'Validation MSE': min_mse_val,\n",
        "                    'Test MSE': mse_test\n",
        "                }, ignore_index=True)\n",
        "\n",
        "                # Graficamos la evolución del MSE durante el entrenamiento\n",
        "                plt.plot(mse_train, label='Train MSE')\n",
        "                plt.plot(mse_val, label='Validation MSE')\n",
        "                plt.title(f'Evolución del MSE - lr={lr}, epochs={epochs}, layers={num_hidden_layers}, neurons={num_neurons}, activation={activation_function}')\n",
        "                plt.xlabel('Épocas')\n",
        "                plt.ylabel('MSE')\n",
        "                plt.legend()\n",
        "                plt.show()\n",
        "\n",
        "# Mostrar el DataFrame\n",
        "print(resultados_df)\n",
        "resultados_df.to_csv('RESULTADOS_weights.csv', index=False)"
      ],
      "metadata": {
        "id": "b-f3uBl0EZwv"
      },
      "execution_count": null,
      "outputs": []
    },
    {
      "cell_type": "markdown",
      "source": [
        "### 6.3 Construimos el modelo final\n",
        "Cogemos el mejor modelo --> menor error de validación. class weight o no?? Lo entrenamos con los datos de train y validación!!\n",
        "\n",
        "\n",
        "Los hiperparámetros que minimizan el error de validación se corresponden con una tasa de aprendizaje de 0.05 y 100 épocas. Guardamos en un fichero el mejor modelo, así como la evolución del error de entrenamiento y de validación del mismo."
      ],
      "metadata": {
        "id": "YqjtzYwBbMKu"
      }
    },
    {
      "cell_type": "markdown",
      "source": [
        "Primero, juntamos los datos de train y validation."
      ],
      "metadata": {
        "id": "c7fZBmgPgzwa"
      }
    },
    {
      "cell_type": "code",
      "source": [
        "# Combinamos los conjuntos de entrenamiento y validación\n",
        "X_train_final = np.concatenate((X_train, X_validation), axis=0)\n",
        "y_train_final = np.concatenate((y_train, y_validation), axis=0)"
      ],
      "metadata": {
        "id": "fax3RZuvhYT6"
      },
      "execution_count": null,
      "outputs": []
    },
    {
      "cell_type": "code",
      "source": [
        "input_shape=(X_train_final.shape [1],) # utilizamos los datos de entrenamiento para definir la tupla.\n",
        "\n",
        "# ESPECIFICAR LOS HIPERPARAMETROS CUANDO LOS TENGAMOS\n",
        "model = Sequential()\n",
        "\n",
        "# Capa de entrada\n",
        "model.add(Dense(num_neurons[0], activation=activation_function, input_shape=input_shape))\n",
        "\n",
        "# Capas ocultas\n",
        "model.add(Dense(num_neurons[i], activation=activation_function))\n",
        "\n",
        "# Capa de salida (5 clases --> 5 neuronas)\n",
        "model.add(Dense(5, activation='softmax'))\n",
        "\n",
        "model.compile(loss='mean_squared_error', optimizer=tf.keras.optimizers.SGD(learning_rate=lr, momentum=0), metrics=['mse'])\n",
        "\n",
        "# Calculamos los pesos de clase para el balanceo\n",
        "\n",
        "class_weights = compute_class_weight('balanced', np.unique(y_train_final), y_train_final)\n",
        "class_weight_dict = dict(enumerate(class_weights))\n",
        "\n",
        "\"\"\"\n",
        "start_time = time.time()\n",
        "# Entrenamos el modelo, incluyendo o no el balanceo de clases según el parámetro\n",
        "historico = model.fit(X_train, y_train, epochs=epochs, batch_size=32, callbacks=[early_stopping], validation_data=(X_validation, y_validation), class_weight=class_weight_dict)\n",
        "tiempo_total = time.time() - start_time\n",
        "print(f\"Tiempo de entrenamiento para (lr = {learning_rate}, epoch = {epochs}, num_hidden_layers={num_hidden_layers}, num_neurons={num_neurons}, activation_function={activation_function}): {tiempo_total}s\")\n"
      ],
      "metadata": {
        "id": "R37hoEouf06J"
      },
      "execution_count": null,
      "outputs": []
    },
    {
      "cell_type": "markdown",
      "source": [
        "### 6.4 Error de test y predicciones\n",
        "Obtenemos el mejor modelo escogido en el apartado anterior. Realizamos las predicciones sobre los datos de test (X_test) y las evaluamos con la variable de respuesta de test (y_test)."
      ],
      "metadata": {
        "id": "0ALKC-h2R-q7"
      }
    },
    {
      "cell_type": "code",
      "source": [
        "# Cargamos el modelo final\n",
        "modelo_final = load_model('modelo_final.h5')\n",
        "\n",
        "# Predecimos sobre el conjunto de prueba\n",
        "y_pred = modelo_final.predict(X_test)\n",
        "\n",
        "# Convertimos las predicciones a clases\n",
        "y_pred_classes = np.argmax(y_pred, axis=1)\n",
        "y_test_classes = np.argmax(y_test, axis=1)\n",
        "\n",
        "# Calculamos y mostrar las métricas\n",
        "accuracy = accuracy_score(y_test_classes, y_pred_classes)\n",
        "precision = precision_score(y_test_classes, y_pred_classes, average='weighted')\n",
        "recall = recall_score(y_test_classes, y_pred_classes, average='weighted')\n",
        "f1 = f1_score(y_test_classes, y_pred_classes, average='weighted')\n",
        "conf_matrix = confusion_matrix(y_test_classes, y_pred_classes)\n",
        "\n",
        "print(f'Accuracy: {accuracy:.4f}')\n",
        "print(f'Precision: {precision:.4f}')\n",
        "print(f'Recall: {recall:.4f}')\n",
        "print(f'F1 Score: {f1:.4f}')\n",
        "print('Confusion Matrix:')\n",
        "print(conf_matrix)\n"
      ],
      "metadata": {
        "id": "c7UMo6oLfgXK"
      },
      "execution_count": null,
      "outputs": []
    },
    {
      "cell_type": "markdown",
      "source": [
        "Comparamos las predicciones con los valores reales gráficamente"
      ],
      "metadata": {
        "id": "rgGUaK1zuKSC"
      }
    },
    {
      "cell_type": "code",
      "source": [
        "# Definir etiquetas de clases\n",
        "class_labels = ['Andando', 'En bici', 'En bus', 'Conduciendo', 'En metro']\n",
        "\n",
        "# Crear un gráfico de barras para las clases reales\n",
        "plt.figure(figsize=(10, 5))\n",
        "plt.bar(class_labels, np.bincount(y_test_classes), label='Real', alpha=0.7)\n",
        "\n",
        "# Crear un gráfico de barras para las clases predichas\n",
        "plt.bar(class_labels, np.bincount(y_pred_classes), label='Predicho', alpha=0.7)\n",
        "\n",
        "plt.xlabel('Clases')\n",
        "plt.ylabel('Frecuencia')\n",
        "plt.title('Comparación de Clases Reales y Predichas')\n",
        "plt.legend()\n",
        "plt.show()"
      ],
      "metadata": {
        "id": "bEwyzHp8uNmD"
      },
      "execution_count": null,
      "outputs": []
    }
  ]
}